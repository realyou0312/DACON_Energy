{
  "nbformat": 4,
  "nbformat_minor": 0,
  "metadata": {
    "colab": {
      "name": "0515.ipynb",
      "private_outputs": true,
      "provenance": [],
      "mount_file_id": "1nzmNL63AtPr-3aSBVYp5Ni571ULgJTEU",
      "authorship_tag": "ABX9TyNsUNZkE4wky3LbAjksrhrz",
      "include_colab_link": true
    },
    "kernelspec": {
      "name": "python3",
      "display_name": "Python 3"
    },
    "language_info": {
      "name": "python"
    },
    "accelerator": "GPU"
  },
  "cells": [
    {
      "cell_type": "markdown",
      "metadata": {
        "id": "view-in-github",
        "colab_type": "text"
      },
      "source": [
        "<a href=\"https://colab.research.google.com/github/realyou0312/DACON_Energy/blob/main/0515.ipynb\" target=\"_parent\"><img src=\"https://colab.research.google.com/assets/colab-badge.svg\" alt=\"Open In Colab\"/></a>"
      ]
    },
    {
      "cell_type": "code",
      "metadata": {
        "id": "kBVA7URZcs25"
      },
      "source": [
        "import numpy as np\n",
        "import pandas as pd\n",
        "import math\n",
        "import os\n",
        "import matplotlib.pyplot as plt\n",
        "\n",
        "from sklearn.metrics import mean_absolute_error\n",
        "\n",
        "import tensorflow as tf\n",
        "from tensorflow import keras\n",
        "from tensorflow.keras.models import Sequential\n",
        "from tensorflow.keras.layers import Dense, LSTM, Reshape, GRU, RNN\n",
        "\n",
        "tf.keras.backend.set_floatx('float64')"
      ],
      "execution_count": null,
      "outputs": []
    },
    {
      "cell_type": "code",
      "metadata": {
        "id": "a_oIICBsc5l5"
      },
      "source": [
        "path = '/content/drive/MyDrive/DACON_Energy/'\n",
        "train=pd.read_csv(path + 'train.csv', encoding='cp949')\n",
        "test=pd.read_csv(path + 'test.csv', encoding='cp949')\n",
        "submission=pd.read_csv(path + 'sample_submission.csv', encoding='cp949')"
      ],
      "execution_count": null,
      "outputs": []
    },
    {
      "cell_type": "code",
      "metadata": {
        "id": "n9OTNYNhdS1K"
      },
      "source": [
        "train\n",
        "#60개의 건물 X 85일 24시간 =122400"
      ],
      "execution_count": null,
      "outputs": []
    },
    {
      "cell_type": "code",
      "metadata": {
        "id": "SH5iKkWsdit-"
      },
      "source": [
        "mini=train.iloc[:,2].min()\n",
        "size=train.iloc[:,2].max()-train.iloc[:,2].min()\n",
        "train.iloc[:,2]=(train.iloc[:,2]-mini)/size"
      ],
      "execution_count": null,
      "outputs": []
    },
    {
      "cell_type": "code",
      "metadata": {
        "id": "K1hMUAg3dwxl"
      },
      "source": [
        "input_window =996 #임의의 수\n",
        "output_window = 24 #168 7일 24시간\n",
        "window = 12 #window는 12시간 마다는 12시간 마다\n",
        "num_features = 1 #베이스라인은 feature를 하나만 사용했습니다.\n",
        "num_power = 60\n",
        "end_=168\n",
        "lstm_units=32\n",
        "dropout=0.2\n",
        "EPOCH=30\n",
        "BATCH_SIZE=128"
      ],
      "execution_count": null,
      "outputs": []
    },
    {
      "cell_type": "code",
      "metadata": {
        "id": "GVG1c6PHd7eT"
      },
      "source": [
        "#train을 tensor로 변경 (60, 24*85, 1)\n",
        "train_x=tf.reshape(train.iloc[:,2].values, [num_power, 24*85, num_features])\n",
        "print(f'train_x.shape:{train_x.shape}')"
      ],
      "execution_count": null,
      "outputs": []
    },
    {
      "cell_type": "code",
      "metadata": {
        "id": "i5Sh8Zr-d8JO"
      },
      "source": [
        "#train_window_x np.zeros를 만듬 (60, 85, 996, 1)\n",
        "train_window_x= np.zeros(( train_x.shape[0], (train_x.shape[1]-(input_window + output_window))//window, input_window, num_features)) \n",
        "train_window_y= np.zeros(( train_x.shape[0], (train_x.shape[1]-(input_window + output_window))//window, output_window, num_features))\n",
        "print(f'train_window_x.shape:{train_window_x.shape}')\n",
        "print(f'train_window_y.shape:{train_window_y.shape}')"
      ],
      "execution_count": null,
      "outputs": []
    },
    {
      "cell_type": "code",
      "metadata": {
        "id": "pHTBedWjd9h4"
      },
      "source": [
        "for example in range(train_x.shape[0]):\n",
        "    \n",
        "    for start in range(0, train_x.shape[1]-(input_window+output_window), window):\n",
        "        end=start+input_window\n",
        "        train_window_x[example, start//window, :] = train_x[example, start: end               , :]\n",
        "        train_window_y[example, start//window, :] = train_x[example, end  : end+ output_window, :]"
      ],
      "execution_count": null,
      "outputs": []
    },
    {
      "cell_type": "code",
      "metadata": {
        "id": "UrdscVxyeXJr"
      },
      "source": [
        "new_train_x=tf.reshape(train_window_x, [-1, input_window, num_features])\n",
        "new_train_y=tf.reshape(train_window_y, [-1, output_window,num_features])\n",
        "print(f'new_train_x.shape:{new_train_x.shape}')\n",
        "print(f'new_train_y.shape:{new_train_y.shape}')"
      ],
      "execution_count": null,
      "outputs": []
    },
    {
      "cell_type": "code",
      "metadata": {
        "id": "KDlrqW3seYjS"
      },
      "source": [
        "model=Sequential([\n",
        "LSTM(lstm_units, return_sequences=False, recurrent_dropout=dropout),\n",
        "Dense(output_window * num_features, kernel_initializer=tf.initializers.zeros()), \n",
        "Reshape([output_window, num_features])\n",
        "])"
      ],
      "execution_count": null,
      "outputs": []
    },
    {
      "cell_type": "code",
      "metadata": {
        "id": "zZkDH-UHedh9"
      },
      "source": [
        "#######Compile 구성하기################\n",
        "\n",
        "\n",
        "model.compile(optimizer='rmsprop', loss='mae', metrics=['mae'])\n",
        "# 에포크가 끝날 때마다 점(.)을 출력해 훈련 진행 과정을 표시합니다\n",
        "class PrintDot(tf.keras.callbacks.Callback):\n",
        "    def on_epoch_end(self, epoch, logs):\n",
        "        if epoch % 10 == 0: print('')\n",
        "        print('.', end='')\n",
        "\n",
        "#가장 좋은 성능을 낸 val_loss가 적은 model만 남겨 놓았습니다.\n",
        "save_best_only=tf.keras.callbacks.ModelCheckpoint(filepath=\"lstm_model.h5\", monitor='val_loss', save_best_only=True)\n",
        "\n",
        "\n",
        "early_stop = tf.keras.callbacks.EarlyStopping(monitor='val_loss', patience=20)\n",
        "\n",
        "#검증 손실이 10epoch 동안 좋아지지 않으면 학습률을 0.1 배로 재구성하는 명령어입니다.\n",
        "reduceLR = tf.keras.callbacks.ReduceLROnPlateau(monitor='val_loss', factor=0.1, patience=10)"
      ],
      "execution_count": null,
      "outputs": []
    },
    {
      "cell_type": "code",
      "metadata": {
        "id": "V-6b2I2PefKq"
      },
      "source": [
        "######################\n",
        "model.fit(new_train_x, new_train_y, epochs=EPOCH, batch_size=BATCH_SIZE, validation_split = 0.2, verbose=0,\n",
        "          callbacks=[PrintDot(), early_stop, save_best_only , reduceLR])\n",
        "\n",
        "model.summary()"
      ],
      "execution_count": null,
      "outputs": []
    },
    {
      "cell_type": "code",
      "metadata": {
        "id": "vetWHQDcerXh"
      },
      "source": [
        "prediction=np.zeros((num_power, end_, num_features))\n",
        "new_test_x=train_x\n",
        "\n",
        "for i in range(end_//output_window):\n",
        "    start_=i*output_window\n",
        "    next_=model.predict(new_test_x[ : , -input_window:, :])\n",
        "    new_test_x = tf.concat([new_test_x, next_], axis=1)\n",
        "    print(new_test_x.shape)\n",
        "    prediction[:, start_: start_ + output_window, :]= next_\n",
        "prediction =prediction *size + mini"
      ],
      "execution_count": null,
      "outputs": []
    },
    {
      "cell_type": "code",
      "metadata": {
        "id": "AvagNY9gevPO"
      },
      "source": [
        "submission['answer']=prediction.reshape([-1,1])\n",
        "submission"
      ],
      "execution_count": null,
      "outputs": []
    },
    {
      "cell_type": "code",
      "metadata": {
        "id": "zaCpoQHZorJf"
      },
      "source": [
        "submission.to_csv('baseline_submission1.csv', index=False)"
      ],
      "execution_count": null,
      "outputs": []
    },
    {
      "cell_type": "code",
      "metadata": {
        "id": "kJDhfGowo48z"
      },
      "source": [
        ""
      ],
      "execution_count": null,
      "outputs": []
    }
  ]
}